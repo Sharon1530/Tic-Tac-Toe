{
 "cells": [
  {
   "cell_type": "code",
   "execution_count": 1,
   "id": "ecea9cc6",
   "metadata": {},
   "outputs": [
    {
     "name": "stdout",
     "output_type": "stream",
     "text": [
      "Defaulting to user installation because normal site-packages is not writeable\n",
      "Requirement already satisfied: pygame in c:\\users\\pande\\appdata\\roaming\\python\\python311\\site-packages (2.5.2)\n"
     ]
    }
   ],
   "source": [
    "!pip install pygame"
   ]
  },
  {
   "cell_type": "code",
   "execution_count": 2,
   "id": "653586b6",
   "metadata": {},
   "outputs": [
    {
     "name": "stdout",
     "output_type": "stream",
     "text": [
      "pygame 2.5.2 (SDL 2.28.3, Python 3.11.5)\n",
      "Hello from the pygame community. https://www.pygame.org/contribute.html\n"
     ]
    }
   ],
   "source": [
    "import numpy as np\n",
    "import pygame\n",
    "import math\n",
    "import sys"
   ]
  },
  {
   "cell_type": "code",
   "execution_count": 3,
   "id": "100f1b86",
   "metadata": {},
   "outputs": [],
   "source": [
    "Rows = 3\n",
    "Columns = 3\n",
    "sizeofsquare = 200\n",
    "radiusofcircle = 60\n",
    "offset = 55\n",
    "circlelinewidth= 15\n",
    "xlinewidth = 25\n",
    "widthofscreen = Columns * sizeofsquare\n",
    "heightofscreen = Rows * sizeofsquare\n",
    "colorofline = (0,0,0)\n",
    "backgroundcolour = (255,255,0)\n",
    "colorofcircle= (255,105,180)\n",
    "xcolor = (255,0,0)"
   ]
  },
  {
   "cell_type": "code",
   "execution_count": 4,
   "id": "f27ac3fe",
   "metadata": {},
   "outputs": [],
   "source": [
    "def printingboard():\n",
    "\tflippedboard = np.flip(Board, 0)\n",
    "\tprint(flippedboard)\n",
    "\tprint(\"\")"
   ]
  },
  {
   "cell_type": "code",
   "execution_count": 5,
   "id": "951a5178",
   "metadata": {},
   "outputs": [],
   "source": [
    "def drawboard():\n",
    "\tdrawlines()\n",
    "\tdrawfigures()"
   ]
  },
  {
   "cell_type": "code",
   "execution_count": 6,
   "id": "06e21099",
   "metadata": {},
   "outputs": [],
   "source": [
    "def drawlines():\n",
    "\tpygame.draw.line(Screen, colorofline, (0, 200), (600, 200), 10)\n",
    "\tpygame.draw.line(Screen, colorofline, (0, 400), (600, 400), 10)\n",
    "\tpygame.draw.line(Screen, colorofline, (200, 0), (200, 600), 10)\n",
    "\tpygame.draw.line(Screen, colorofline, (400, 0), (400, 600), 10)\n"
   ]
  },
  {
   "cell_type": "code",
   "execution_count": 7,
   "id": "6f58d6d4",
   "metadata": {},
   "outputs": [],
   "source": [
    "def drawfigures():\n",
    "\tfor col in range(Columns):\n",
    "\t\tfor row in range(Rows):\n",
    "\t\t\tif Board[row][col] == 1:\n",
    "\t\t\t\tpygame.draw.circle(Screen, colorofcircle, (int(col * sizeofsquare + sizeofsquare / 2), int(row * sizeofsquare + sizeofsquare / 2)), radiusofcircle, circlelinewidth)\n",
    "\t\t\telif Board[row][col] == 2:\n",
    "\t\t\t\tpygame.draw.line(Screen, xcolor, (col * sizeofsquare + offset, row * sizeofsquare + offset), (col * sizeofsquare + sizeofsquare - offset, row *sizeofsquare + sizeofsquare - offset), xlinewidth)\n",
    "\t\t\t\tpygame.draw.line(Screen, xcolor, (col * sizeofsquare + offset, row * sizeofsquare + sizeofsquare - offset), (col * sizeofsquare + sizeofsquare - offset, row * sizeofsquare + offset), xlinewidth)"
   ]
  },
  {
   "cell_type": "code",
   "execution_count": 8,
   "id": "fae51d7d",
   "metadata": {},
   "outputs": [],
   "source": [
    "def fullboard():\n",
    "\tfor col in range(Columns):\n",
    "\t\tfor row in range(Rows):\n",
    "\t\t\tif Board[row][col] == 0:\n",
    "\t\t\t\treturn False\n",
    "\n",
    "\treturn True"
   ]
  },
  {
   "cell_type": "code",
   "execution_count": 9,
   "id": "f46ef3d1",
   "metadata": {},
   "outputs": [],
   "source": [
    "def availablesquare(row, col):\n",
    "\tis_available = Board[row][col] == 0\n",
    "\treturn is_available"
   ]
  },
  {
   "cell_type": "code",
   "execution_count": 10,
   "id": "d19ac0c9",
   "metadata": {},
   "outputs": [],
   "source": [
    "def marksquare(row, col, player):\n",
    "\tBoard[row][col] = player"
   ]
  },
  {
   "cell_type": "code",
   "execution_count": 11,
   "id": "721c43c0",
   "metadata": {},
   "outputs": [],
   "source": [
    "def win(player):\n",
    "\tverwin = verticalwin(player)\n",
    "\thorwin = horizontalwin(player)\n",
    "\tdiagwin = diagonalwin(player)\n",
    "\n",
    "\tif verwin or horwin or diagwin:\n",
    "\t\treturn True\n",
    "\telse:\n",
    "\t\treturn False"
   ]
  },
  {
   "cell_type": "code",
   "execution_count": 12,
   "id": "65a05388",
   "metadata": {},
   "outputs": [],
   "source": [
    "def verticalwin(player):\n",
    "\tfor col in range(Columns):\n",
    "\t\tif Board[0][col] == player and Board[1][col] == player and Board[2][col] == player:\n",
    "\t\t\tdrawverticalline(col, player)\n",
    "\t\t\treturn True\n",
    "\n",
    "\treturn False"
   ]
  },
  {
   "cell_type": "code",
   "execution_count": 13,
   "id": "b53aef84",
   "metadata": {},
   "outputs": [],
   "source": [
    "def horizontalwin(player):\n",
    "\tfor row in range(Rows):\n",
    "\t\tif Board[row][0] == player and Board[row][1] == player and Board[row][2] == player:\n",
    "\t\t\tdrawhorizontalline(row, player)\n",
    "\t\t\treturn True\n",
    "\n",
    "\treturn False"
   ]
  },
  {
   "cell_type": "code",
   "execution_count": 14,
   "id": "b6225e45",
   "metadata": {},
   "outputs": [],
   "source": [
    "def diagonalwin(player):\n",
    "\tif Board[0][0] == player and Board[1][1] == player and Board[2][2] == player:\n",
    "\t\tdrawdiagonalline(player)\n",
    "\t\treturn True\n",
    "\telif Board[2][0] == player and Board[1][1] == player and Board[0][2] == player:\n",
    "\t\tdrawdiagonalline(player, False)\n",
    "\t\treturn True\n",
    "\telse:\n",
    "\t\treturn False\n"
   ]
  },
  {
   "cell_type": "code",
   "execution_count": 15,
   "id": "02ec80a4",
   "metadata": {},
   "outputs": [],
   "source": [
    "def drawverticalline(col, player):\n",
    "\tposX = col * sizeofsquare + sizeofsquare / 2\n",
    "\n",
    "\tif player == 1:\n",
    "\t\tpygame.draw.line(Screen, colorofcircle, (posX, 10), (posX, heightofscreen - 10), circlelinewidth)\n",
    "\telse:\n",
    "\t\tpygame.draw.line(Screen,xcolor, (posX, 10), (posX, heightofscreen - 10), circlelinewidth)\n"
   ]
  },
  {
   "cell_type": "code",
   "execution_count": 16,
   "id": "84133444",
   "metadata": {},
   "outputs": [],
   "source": [
    "def drawhorizontalline(row, player):\n",
    "\tposY = row * sizeofsquare + sizeofsquare/ 2\n",
    "\n",
    "\tif player == 1:\n",
    "\t\tpygame.draw.line(Screen, colorofcircle, (10, posY), (widthofscreen - 10, posY), circlelinewidth)\n",
    "\telse:\n",
    "\t\tpygame.draw.line(Screen, xcolor, (10, posY), (widthofscreen - 10, posY), circlelinewidth)"
   ]
  },
  {
   "cell_type": "code",
   "execution_count": 17,
   "id": "f3d38c33",
   "metadata": {},
   "outputs": [],
   "source": [
    "def drawdiagonalline(player, down_diag=True):\n",
    "\tif down_diag:\n",
    "\t\tif player == 1:\n",
    "\t\t\tpygame.draw.line(Screen, colorofcircle, (25, 25), (widthofscreen - 25, heightofscreen - 25), xlinewidth)\n",
    "\t\telse:\n",
    "\t\t\tpygame.draw.line(Screen, colorofcircle, (25, 25), (widthofscreen - 25, heightofscreen - 25), xlinewidth)\n",
    "\telse:\n",
    "\t\tif player == 1:\n",
    "\t\t\tpygame.draw.line(Screen, colorofcircle, (25, heightofscreen - 25), (widthofscreen - 25, 25), xlinewidth)\n",
    "\t\telse:\n",
    "\t\t\tpygame.draw.line(Screen, xcolor, (25, heightofscreen - 25), (widthofscreen - 25, 25), xlinewidth)"
   ]
  },
  {
   "cell_type": "code",
   "execution_count": 18,
   "id": "1b8c5f51",
   "metadata": {},
   "outputs": [],
   "source": [
    "Board = np.zeros((Rows,Columns))\n",
    "pygame.init()\n",
    "pygame.display.set_caption(\"TIC-TAC-TOE by SN\")\n",
    "Screen = pygame.display.set_mode((widthofscreen, heightofscreen))\n",
    "Screen.fill(backgroundcolour)\n",
    "drawlines()\n",
    "pygame.display.update()\n",
    "player = 0\n",
    "gameover = False\n",
    "inmenu = True"
   ]
  },
  {
   "cell_type": "code",
   "execution_count": 19,
   "id": "c4a247d2",
   "metadata": {},
   "outputs": [
    {
     "ename": "SystemExit",
     "evalue": "",
     "output_type": "error",
     "traceback": [
      "An exception has occurred, use %tb to see the full traceback.\n",
      "\u001b[1;31mSystemExit\u001b[0m\n"
     ]
    },
    {
     "name": "stderr",
     "output_type": "stream",
     "text": [
      "C:\\ProgramData\\anaconda3\\Lib\\site-packages\\IPython\\core\\interactiveshell.py:3534: UserWarning: To exit: use 'exit', 'quit', or Ctrl-D.\n",
      "  warn(\"To exit: use 'exit', 'quit', or Ctrl-D.\", stacklevel=1)\n"
     ]
    }
   ],
   "source": [
    "while True:\n",
    "\n",
    "\tfor event in pygame.event.get():\n",
    "\t\tif event.type == pygame.QUIT:\n",
    "\t\t\tsys.exit()\n",
    "\n",
    "\t\tif event.type == pygame.MOUSEBUTTONDOWN and not gameover:\n",
    "\t\t\tpositiony = event.pos[1]\n",
    "\t\t\trow = int(math.floor(positiony / sizeofsquare))\n",
    "\t\t\tpositionx = event.pos[0]\n",
    "\t\t\tcol = int(math.floor(positionx / sizeofsquare))\n",
    "\n",
    "\t\t\tif player % 2 == 0:\n",
    "\t\t\t\tif availablesquare(row, col):\n",
    "\t\t\t\t\tmarksquare(row, col, 1)\n",
    "\n",
    "\t\t\t\t\tif win(1):\n",
    "\t\t\t\t\t\tgameover = True\n",
    "\n",
    "\t\t\t\t\tplayer += 1\n",
    "\n",
    "\t\t\telse:\n",
    "\t\t\t\tif availablesquare(row, col):\n",
    "\t\t\t\t\tmarksquare(row, col, 2)\n",
    "\n",
    "\t\t\t\t\tif win(2):\n",
    "\t\t\t\t\t\tgameover = True\n",
    "\n",
    "\t\t\t\t\tplayer += 1\n",
    "\n",
    "\t\t\tif fullboard():\n",
    "\t\t\t\tgameover = True\n",
    "\n",
    "\tdrawfigures()\n",
    "\tpygame.display.update()"
   ]
  },
  {
   "cell_type": "code",
   "execution_count": null,
   "id": "1cb4a41c",
   "metadata": {},
   "outputs": [],
   "source": []
  },
  {
   "cell_type": "code",
   "execution_count": null,
   "id": "ffe6d8dd",
   "metadata": {},
   "outputs": [],
   "source": []
  }
 ],
 "metadata": {
  "kernelspec": {
   "display_name": "Python 3 (ipykernel)",
   "language": "python",
   "name": "python3"
  },
  "language_info": {
   "codemirror_mode": {
    "name": "ipython",
    "version": 3
   },
   "file_extension": ".py",
   "mimetype": "text/x-python",
   "name": "python",
   "nbconvert_exporter": "python",
   "pygments_lexer": "ipython3",
   "version": "3.11.5"
  }
 },
 "nbformat": 4,
 "nbformat_minor": 5
}
